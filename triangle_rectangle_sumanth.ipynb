{
  "nbformat": 4,
  "nbformat_minor": 0,
  "metadata": {
    "colab": {
      "name": "triangle-rectangle-sumanth.ipynb",
      "provenance": [],
      "collapsed_sections": [],
      "include_colab_link": true
    },
    "kernelspec": {
      "name": "python3",
      "display_name": "Python 3"
    },
    "language_info": {
      "name": "python"
    }
  },
  "cells": [
    {
      "cell_type": "markdown",
      "metadata": {
        "id": "view-in-github",
        "colab_type": "text"
      },
      "source": [
        "<a href=\"https://colab.research.google.com/github/sumanthkm2001/Python-Hashing/blob/main/triangle_rectangle_sumanth.ipynb\" target=\"_parent\"><img src=\"https://colab.research.google.com/assets/colab-badge.svg\" alt=\"Open In Colab\"/></a>"
      ]
    },
    {
      "cell_type": "markdown",
      "metadata": {
        "id": "--aMN1uTYA40"
      },
      "source": [
        "Area of a Triangle & Volume of rectangle\n",
        "\n",
        "Input:\n",
        "\n",
        "Length = 1\n",
        "\n",
        "Width =  2\n",
        "\n",
        "Height = 3\n",
        "\n",
        "Output:\n",
        "\n",
        "Area of triangle= 3\n",
        "\n",
        "Volume of rectangle = 6"
      ]
    },
    {
      "cell_type": "code",
      "metadata": {
        "id": "twienUALX_sG",
        "colab": {
          "base_uri": "https://localhost:8080/"
        },
        "outputId": "3abe8c32-bd20-4072-859f-c2b3a7bdaafe"
      },
      "source": [
        "# Code\n",
        "l = int(input('enter the length\\n'))\n",
        "w = int(input('enter the width\\n'))\n",
        "h = int(input('enter the height\\n'))\n",
        "triangle = (1/2 * h * w)\n",
        "print ('area of triangle')\n",
        "print (triangle)\n",
        "rectangle = (l * w * h)\n",
        "print ('volume of rectangle')\n",
        "print (rectangle)"
      ],
      "execution_count": null,
      "outputs": [
        {
          "output_type": "stream",
          "text": [
            "enter the length\n",
            "1\n",
            "enter the width\n",
            "2\n",
            "enter the height\n",
            "3\n",
            "area of triangle\n",
            "3.0\n",
            "volume of rectangle\n",
            "6\n"
          ],
          "name": "stdout"
        }
      ]
    }
  ]
}